{
 "cells": [
  {
   "cell_type": "code",
   "execution_count": 1,
   "id": "d1f8a75e",
   "metadata": {},
   "outputs": [],
   "source": [
    "import numpy as np\n",
    "import starfile\n",
    "import mrcfile\n",
    "# import cv2\n",
    "import pandas as pd"
   ]
  },
  {
   "cell_type": "code",
   "execution_count": 2,
   "id": "85378ea4",
   "metadata": {},
   "outputs": [],
   "source": [
    "img_h = 600\n",
    "bin_num = 20\n",
    "fixed_ratio = True"
   ]
  },
  {
   "cell_type": "code",
   "execution_count": 3,
   "id": "239582fa",
   "metadata": {},
   "outputs": [],
   "source": [
    "def downsample(img, height):\n",
    "    '''\n",
    "    Downsample 2d array using fourier transform.\n",
    "    factor is the downsample factor.\n",
    "    '''\n",
    "    m, n = img.shape[-2:]\n",
    "    ds_factor = m / height\n",
    "    width = int(n / ds_factor / 2) * 2\n",
    "    F = np.fft.rfft2(img)\n",
    "    A = F[..., 0:height // 2, 0:width // 2 + 1]\n",
    "    B = F[..., -height // 2:, 0:width // 2 + 1]\n",
    "    F = np.concatenate([A, B], axis=0)\n",
    "    f = np.fft.irfft2(F, s=(height, width))\n",
    "    return f"
   ]
  },
  {
   "cell_type": "code",
   "execution_count": 4,
   "id": "93b70105",
   "metadata": {},
   "outputs": [
    {
     "ename": "FileNotFoundError",
     "evalue": "[Errno 2] No such file or directory: '../samples/input/01.mrc'",
     "output_type": "error",
     "traceback": [
      "\u001b[0;31m---------------------------------------------------------------------------\u001b[0m",
      "\u001b[0;31mFileNotFoundError\u001b[0m                         Traceback (most recent call last)",
      "Cell \u001b[0;32mIn [4], line 4\u001b[0m\n\u001b[1;32m      2\u001b[0m star \u001b[38;5;241m=\u001b[39m \u001b[38;5;124m'\u001b[39m\u001b[38;5;124m../samples/input/01.star\u001b[39m\u001b[38;5;124m'\u001b[39m\n\u001b[1;32m      3\u001b[0m df \u001b[38;5;241m=\u001b[39m starfile\u001b[38;5;241m.\u001b[39mread(star)\n\u001b[0;32m----> 4\u001b[0m img \u001b[38;5;241m=\u001b[39m \u001b[43mmrcfile\u001b[49m\u001b[38;5;241;43m.\u001b[39;49m\u001b[43mread\u001b[49m\u001b[43m(\u001b[49m\u001b[43mmrc\u001b[49m\u001b[43m)\u001b[49m\n\u001b[1;32m      6\u001b[0m factor \u001b[38;5;241m=\u001b[39m img_h \u001b[38;5;241m/\u001b[39m img\u001b[38;5;241m.\u001b[39mshape[\u001b[38;5;241m0\u001b[39m]\n\u001b[1;32m      7\u001b[0m img_w \u001b[38;5;241m=\u001b[39m \u001b[38;5;28mint\u001b[39m(img\u001b[38;5;241m.\u001b[39mshape[\u001b[38;5;241m1\u001b[39m] \u001b[38;5;241m*\u001b[39m factor)\n",
      "File \u001b[0;32m~/anaconda3/envs/cryoem/lib/python3.9/site-packages/mrcfile/load_functions.py:157\u001b[0m, in \u001b[0;36mread\u001b[0;34m(name)\u001b[0m\n\u001b[1;32m    143\u001b[0m \u001b[38;5;28;01mdef\u001b[39;00m \u001b[38;5;21mread\u001b[39m(name):\n\u001b[1;32m    144\u001b[0m     \u001b[38;5;124;03m\"\"\"Read an MRC file's data into a numpy array.\u001b[39;00m\n\u001b[1;32m    145\u001b[0m \n\u001b[1;32m    146\u001b[0m \u001b[38;5;124;03m    This is a convenience function to read the data from an MRC file when there is no\u001b[39;00m\n\u001b[0;32m   (...)\u001b[0m\n\u001b[1;32m    155\u001b[0m \u001b[38;5;124;03m        A :class:`numpy array<numpy.ndarray>` containing the data from the file.\u001b[39;00m\n\u001b[1;32m    156\u001b[0m \u001b[38;5;124;03m    \"\"\"\u001b[39;00m\n\u001b[0;32m--> 157\u001b[0m     \u001b[38;5;28;01mwith\u001b[39;00m \u001b[38;5;28;43mopen\u001b[39;49m\u001b[43m(\u001b[49m\u001b[43mname\u001b[49m\u001b[43m,\u001b[49m\u001b[43m \u001b[49m\u001b[43mmode\u001b[49m\u001b[38;5;241;43m=\u001b[39;49m\u001b[38;5;124;43m'\u001b[39;49m\u001b[38;5;124;43mr\u001b[39;49m\u001b[38;5;124;43m'\u001b[39;49m\u001b[43m,\u001b[49m\u001b[43m \u001b[49m\u001b[43mpermissive\u001b[49m\u001b[38;5;241;43m=\u001b[39;49m\u001b[38;5;28;43;01mTrue\u001b[39;49;00m\u001b[43m)\u001b[49m \u001b[38;5;28;01mas\u001b[39;00m mrc:\n\u001b[1;32m    158\u001b[0m         data \u001b[38;5;241m=\u001b[39m mrc\u001b[38;5;241m.\u001b[39mdata\u001b[38;5;241m.\u001b[39mcopy()\n\u001b[1;32m    159\u001b[0m     \u001b[38;5;28;01mreturn\u001b[39;00m data\n",
      "File \u001b[0;32m~/anaconda3/envs/cryoem/lib/python3.9/site-packages/mrcfile/load_functions.py:139\u001b[0m, in \u001b[0;36mopen\u001b[0;34m(name, mode, permissive, header_only)\u001b[0m\n\u001b[1;32m    137\u001b[0m         \u001b[38;5;28;01melif\u001b[39;00m start[:\u001b[38;5;241m2\u001b[39m] \u001b[38;5;241m==\u001b[39m \u001b[38;5;124mb\u001b[39m\u001b[38;5;124m'\u001b[39m\u001b[38;5;124mBZ\u001b[39m\u001b[38;5;124m'\u001b[39m:\n\u001b[1;32m    138\u001b[0m             NewMrc \u001b[38;5;241m=\u001b[39m Bzip2MrcFile\n\u001b[0;32m--> 139\u001b[0m \u001b[38;5;28;01mreturn\u001b[39;00m \u001b[43mNewMrc\u001b[49m\u001b[43m(\u001b[49m\u001b[43mname\u001b[49m\u001b[43m,\u001b[49m\u001b[43m \u001b[49m\u001b[43mmode\u001b[49m\u001b[38;5;241;43m=\u001b[39;49m\u001b[43mmode\u001b[49m\u001b[43m,\u001b[49m\u001b[43m \u001b[49m\u001b[43mpermissive\u001b[49m\u001b[38;5;241;43m=\u001b[39;49m\u001b[43mpermissive\u001b[49m\u001b[43m,\u001b[49m\n\u001b[1;32m    140\u001b[0m \u001b[43m              \u001b[49m\u001b[43mheader_only\u001b[49m\u001b[38;5;241;43m=\u001b[39;49m\u001b[43mheader_only\u001b[49m\u001b[43m)\u001b[49m\n",
      "File \u001b[0;32m~/anaconda3/envs/cryoem/lib/python3.9/site-packages/mrcfile/mrcfile.py:109\u001b[0m, in \u001b[0;36mMrcFile.__init__\u001b[0;34m(self, name, mode, overwrite, permissive, header_only, **kwargs)\u001b[0m\n\u001b[1;32m    106\u001b[0m \u001b[38;5;28mself\u001b[39m\u001b[38;5;241m.\u001b[39m_mode \u001b[38;5;241m=\u001b[39m mode\n\u001b[1;32m    107\u001b[0m \u001b[38;5;28mself\u001b[39m\u001b[38;5;241m.\u001b[39m_read_only \u001b[38;5;241m=\u001b[39m (\u001b[38;5;28mself\u001b[39m\u001b[38;5;241m.\u001b[39m_mode \u001b[38;5;241m==\u001b[39m \u001b[38;5;124m'\u001b[39m\u001b[38;5;124mr\u001b[39m\u001b[38;5;124m'\u001b[39m)\n\u001b[0;32m--> 109\u001b[0m \u001b[38;5;28;43mself\u001b[39;49m\u001b[38;5;241;43m.\u001b[39;49m\u001b[43m_open_file\u001b[49m\u001b[43m(\u001b[49m\u001b[43mname\u001b[49m\u001b[43m)\u001b[49m\n\u001b[1;32m    111\u001b[0m \u001b[38;5;28;01mtry\u001b[39;00m:\n\u001b[1;32m    112\u001b[0m     \u001b[38;5;28;01mif\u001b[39;00m \u001b[38;5;124m'\u001b[39m\u001b[38;5;124mw\u001b[39m\u001b[38;5;124m'\u001b[39m \u001b[38;5;129;01min\u001b[39;00m mode:\n",
      "File \u001b[0;32m~/anaconda3/envs/cryoem/lib/python3.9/site-packages/mrcfile/mrcfile.py:126\u001b[0m, in \u001b[0;36mMrcFile._open_file\u001b[0;34m(self, name)\u001b[0m\n\u001b[1;32m    124\u001b[0m \u001b[38;5;28;01mdef\u001b[39;00m \u001b[38;5;21m_open_file\u001b[39m(\u001b[38;5;28mself\u001b[39m, name):\n\u001b[1;32m    125\u001b[0m     \u001b[38;5;124;03m\"\"\"Open a file object to use as the I/O stream.\"\"\"\u001b[39;00m\n\u001b[0;32m--> 126\u001b[0m     \u001b[38;5;28mself\u001b[39m\u001b[38;5;241m.\u001b[39m_iostream \u001b[38;5;241m=\u001b[39m \u001b[38;5;28;43mopen\u001b[39;49m\u001b[43m(\u001b[49m\u001b[43mname\u001b[49m\u001b[43m,\u001b[49m\u001b[43m \u001b[49m\u001b[38;5;28;43mself\u001b[39;49m\u001b[38;5;241;43m.\u001b[39;49m\u001b[43m_mode\u001b[49m\u001b[43m \u001b[49m\u001b[38;5;241;43m+\u001b[39;49m\u001b[43m \u001b[49m\u001b[38;5;124;43m'\u001b[39;49m\u001b[38;5;124;43mb\u001b[39;49m\u001b[38;5;124;43m'\u001b[39;49m\u001b[43m)\u001b[49m\n",
      "\u001b[0;31mFileNotFoundError\u001b[0m: [Errno 2] No such file or directory: '../samples/input/01.mrc'"
     ]
    }
   ],
   "source": [
    "mrc = '../samples/input/01.mrc'\n",
    "star = '../samples/input/01.star'\n",
    "df = starfile.read(star)\n",
    "img = mrcfile.read(mrc)\n",
    "\n",
    "factor = img_h / img.shape[0]\n",
    "img_w = int(img.shape[1] * factor)\n",
    "img = downsample(img, img_h)\n",
    "# img = cv2.resize(img, dsize=(img_w, img_h), interpolation=cv2.INTER_CUBIC)\n"
   ]
  },
  {
   "cell_type": "code",
   "execution_count": null,
   "id": "2e833277",
   "metadata": {},
   "outputs": [],
   "source": [
    "print(df.head())\n",
    "print(img.shape)"
   ]
  },
  {
   "cell_type": "code",
   "execution_count": null,
   "id": "f60e3fd5",
   "metadata": {},
   "outputs": [],
   "source": [
    "df['rlnAutopickFigureOfMerit'] = np.random.uniform(0, 1, len(df))\n",
    "print(df.head())"
   ]
  },
  {
   "cell_type": "code",
   "execution_count": null,
   "id": "5983876d",
   "metadata": {},
   "outputs": [],
   "source": [
    "a = df['rlnAutopickFigureOfMerit'].to_numpy()\n",
    "if (a[0] == a).all():\n",
    "    bin_num = 1"
   ]
  },
  {
   "cell_type": "code",
   "execution_count": null,
   "id": "921f75df",
   "metadata": {},
   "outputs": [],
   "source": [
    "out, bins = pd.cut(df[\"rlnAutopickFigureOfMerit\"], bin_num, retbins=True)\n",
    "print(bins)\n",
    "dfs = tuple(df.groupby(out))"
   ]
  },
  {
   "cell_type": "code",
   "execution_count": null,
   "id": "d4f0858b",
   "metadata": {},
   "outputs": [],
   "source": [
    "import plotly.express as px\n",
    "import plotly.graph_objects as go\n",
    "\n",
    "fig = px.imshow(img, binary_string=True)\n",
    "\n",
    "i = 1\n",
    "for df in dfs:\n",
    "    df = df[1]\n",
    "    fig.add_trace(go.Scatter(x = df['rlnCoordinateX'] * factor, \n",
    "                             y = df['rlnCoordinateY'] * factor, \n",
    "                             mode = 'markers',\n",
    "                             marker = dict(\n",
    "                                 symbol='circle-open',\n",
    "                                 size = 5,\n",
    "                                 color = 'red',\n",
    "                                 opacity = i / bin_num,\n",
    "                                 showscale=False,\n",
    "                             ),\n",
    "                             text = ['{:0.3f}'.format(i) for i in df['rlnAutopickFigureOfMerit']],\n",
    "                             hovertemplate = '<i>Merit</i>: %{text}', \n",
    "                             name = \"\",\n",
    "                             showlegend=False,\n",
    "                            ))\n",
    "    i += 1\n",
    "\n",
    "merit_steps = []\n",
    "for i in range(len(fig.data)):\n",
    "    step = dict(\n",
    "        method=\"update\",\n",
    "        args=[{\"visible\": [True] + [False] * i + [True] * (len(fig.data) - 1 - i)},\n",
    "             ],\n",
    "        label=\"{:0.3f}\".format(bins[i]),\n",
    "    )\n",
    "    merit_steps.append(step)\n",
    "\n",
    "marker_steps = []\n",
    "for i in range(2,40,2):\n",
    "    step = dict(\n",
    "        method=\"restyle\",\n",
    "        args=[{\"marker.size\": i},\n",
    "             ],\n",
    "        label=\"{:0.3f}\".format(i/factor),\n",
    "    )\n",
    "    marker_steps.append(step)\n",
    "\n",
    "sliders = [dict(\n",
    "            active=0,\n",
    "            currentvalue={\"prefix\": \"Threshold: \"},\n",
    "            steps=merit_steps,\n",
    "            pad={\"l\": 10, \"t\": 0},\n",
    "            ),\n",
    "            dict(\n",
    "            active=5,\n",
    "            currentvalue={\"prefix\": \"Marker size (px): \"},\n",
    "            steps=marker_steps,\n",
    "            pad={\"l\": 10, \"t\": 100},\n",
    "            ),\n",
    "           ]\n",
    "\n",
    "\n",
    "fig.update_layout(\n",
    "    sliders=sliders,\n",
    "    width=img_w,\n",
    "    height=img_h,\n",
    "    margin={\"l\": 0, \"r\": 0, \"t\": 0, \"b\": 0},\n",
    "    plot_bgcolor='rgba(0, 0, 0, 0)',\n",
    "    paper_bgcolor='rgba(0, 0, 0, 0)',    \n",
    ")\n",
    "\n",
    "fig.update_xaxes(visible=False)\n",
    "fig.update_yaxes(visible=False)\n",
    "\n",
    "fig.update_yaxes(\n",
    "    scaleanchor=\"x\",\n",
    "    scaleratio=1,\n",
    "  )\n",
    "\n",
    "fig.show(config={'responsive': False})\n"
   ]
  },
  {
   "cell_type": "code",
   "execution_count": null,
   "id": "5a009871",
   "metadata": {},
   "outputs": [],
   "source": []
  }
 ],
 "metadata": {
  "kernelspec": {
   "display_name": "Python 3 (ipykernel)",
   "language": "python",
   "name": "python3"
  },
  "language_info": {
   "codemirror_mode": {
    "name": "ipython",
    "version": 3
   },
   "file_extension": ".py",
   "mimetype": "text/x-python",
   "name": "python",
   "nbconvert_exporter": "python",
   "pygments_lexer": "ipython3",
   "version": "3.9.15"
  }
 },
 "nbformat": 4,
 "nbformat_minor": 5
}
