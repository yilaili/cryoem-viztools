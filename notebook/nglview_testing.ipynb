{
 "cells": [
  {
   "cell_type": "code",
   "execution_count": 38,
   "id": "1306f1d0",
   "metadata": {},
   "outputs": [
    {
     "data": {
      "application/vnd.jupyter.widget-view+json": {
       "model_id": "7f46eac8a0314669b1273b61907b644b",
       "version_major": 2,
       "version_minor": 0
      },
      "text/plain": [
       "NGLWidget()"
      ]
     },
     "metadata": {},
     "output_type": "display_data"
    }
   ],
   "source": [
    "import nglview as nv\n",
    "import pytraj as pt\n",
    "\n",
    "traj = pt.load(\"./4hhb.pdb\")\n",
    "view = nv.show_pytraj(traj)\n",
    "view.add_component('./1gwd.pdb')\n",
    "view"
   ]
  },
  {
   "cell_type": "code",
   "execution_count": 39,
   "id": "21d5c1f5",
   "metadata": {},
   "outputs": [
    {
     "data": {
      "application/vnd.jupyter.widget-view+json": {
       "model_id": "f5bd4e44c2f243ff957f5c8b28974e9e",
       "version_major": 2,
       "version_minor": 0
      },
      "text/plain": [
       "NGLWidget()"
      ]
     },
     "metadata": {},
     "output_type": "display_data"
    }
   ],
   "source": [
    "import nglview as nv\n",
    "import pytraj as pt\n",
    "\n",
    "traj = pt.load(\"./4hhb.pdb\")\n",
    "view = nv.show_pytraj(traj)\n",
    "view"
   ]
  },
  {
   "cell_type": "code",
   "execution_count": 40,
   "id": "b7d1f8a0",
   "metadata": {},
   "outputs": [
    {
     "data": {
      "application/vnd.jupyter.widget-view+json": {
       "model_id": "c0bc9ee7fe394e2788bd5b4a9fb76ee6",
       "version_major": 2,
       "version_minor": 0
      },
      "text/plain": [
       "NGLWidget()"
      ]
     },
     "metadata": {},
     "output_type": "display_data"
    }
   ],
   "source": [
    "import nglview as nv\n",
    "import pytraj as pt\n",
    "\n",
    "traj = pt.load(\"./4hhb.pdb\")\n",
    "view = nv.show_pytraj(traj)\n",
    "view.add_component('./testing1.mrc')\n",
    "view"
   ]
  },
  {
   "cell_type": "code",
   "execution_count": 41,
   "id": "82a4914d",
   "metadata": {},
   "outputs": [
    {
     "ename": "TypeError",
     "evalue": "_remove_representations_by_name() got an unexpected keyword argument 'opacity'",
     "output_type": "error",
     "traceback": [
      "\u001b[0;31m---------------------------------------------------------------------------\u001b[0m",
      "\u001b[0;31mTypeError\u001b[0m                                 Traceback (most recent call last)",
      "Input \u001b[0;32mIn [41]\u001b[0m, in \u001b[0;36m<cell line: 20>\u001b[0;34m()\u001b[0m\n\u001b[1;32m     17\u001b[0m view\u001b[38;5;241m.\u001b[39mupdate_cartoon(opacity\u001b[38;5;241m=\u001b[39m\u001b[38;5;241m0.4\u001b[39m, component\u001b[38;5;241m=\u001b[39m\u001b[38;5;241m0\u001b[39m)\n\u001b[1;32m     19\u001b[0m \u001b[38;5;66;03m# remove ALL cartoons of component 0 (default)\u001b[39;00m\n\u001b[0;32m---> 20\u001b[0m \u001b[43mview\u001b[49m\u001b[38;5;241;43m.\u001b[39;49m\u001b[43mremove_cartoon\u001b[49m\u001b[43m(\u001b[49m\u001b[43mopacity\u001b[49m\u001b[38;5;241;43m=\u001b[39;49m\u001b[38;5;241;43m0.4\u001b[39;49m\u001b[43m,\u001b[49m\u001b[43m \u001b[49m\u001b[43mcomponent\u001b[49m\u001b[38;5;241;43m=\u001b[39;49m\u001b[38;5;241;43m0\u001b[39;49m\u001b[43m)\u001b[49m\n\u001b[1;32m     22\u001b[0m \u001b[38;5;66;03m# Not using default representation\u001b[39;00m\n\u001b[1;32m     23\u001b[0m view \u001b[38;5;241m=\u001b[39m nv\u001b[38;5;241m.\u001b[39mshow_file(\u001b[38;5;124m'\u001b[39m\u001b[38;5;124myour.pdb\u001b[39m\u001b[38;5;124m'\u001b[39m, default\u001b[38;5;241m=\u001b[39m\u001b[38;5;28;01mFalse\u001b[39;00m)\n",
      "File \u001b[0;32m~/opt/anaconda3/lib/python3.8/site-packages/nglview/utils/widget_utils.py:71\u001b[0m, in \u001b[0;36m_add_repr_method_shortcut.<locals>.make_func_remove.<locals>.func\u001b[0;34m(this, **kwargs)\u001b[0m\n\u001b[1;32m     68\u001b[0m \u001b[38;5;28;01mdef\u001b[39;00m \u001b[38;5;21mfunc\u001b[39m(this, \u001b[38;5;241m*\u001b[39m\u001b[38;5;241m*\u001b[39mkwargs):\n\u001b[1;32m     69\u001b[0m     \u001b[38;5;124;03m\"\"\"\u001b[39;00m\n\u001b[1;32m     70\u001b[0m \u001b[38;5;124;03m    \"\"\"\u001b[39;00m\n\u001b[0;32m---> 71\u001b[0m     \u001b[38;5;28;43mself\u001b[39;49m\u001b[38;5;241;43m.\u001b[39;49m\u001b[43m_remove_representations_by_name\u001b[49m\u001b[43m(\u001b[49m\u001b[43mrepr_name\u001b[49m\u001b[38;5;241;43m=\u001b[39;49m\u001b[43mrep\u001b[49m\u001b[43m[\u001b[49m\u001b[38;5;241;43m1\u001b[39;49m\u001b[43m]\u001b[49m\u001b[43m,\u001b[49m\u001b[43m \u001b[49m\u001b[38;5;241;43m*\u001b[39;49m\u001b[38;5;241;43m*\u001b[39;49m\u001b[43mkwargs\u001b[49m\u001b[43m)\u001b[49m\n",
      "\u001b[0;31mTypeError\u001b[0m: _remove_representations_by_name() got an unexpected keyword argument 'opacity'"
     ]
    }
   ],
   "source": [
    "# view.add_representation('cartoon', selection='protein')\n",
    "\n",
    "# # or shorter\n",
    "# view.add_cartoon(selection=\"protein\")\n",
    "# view.add_surface(selection=\"protein\", opacity=0.3)\n",
    "\n",
    "# # specify color\n",
    "# view.add_cartoon(selection=\"protein\", color='blue')\n",
    "\n",
    "# # specify residue\n",
    "# view.add_licorice('ALA, GLU')\n",
    "\n",
    "# # clear representations\n",
    "# view.clear_representations()\n",
    "\n",
    "# # update parameters for ALL cartoons of component 0 (default)\n",
    "# view.update_cartoon(opacity=0.4, component=0)\n",
    "\n",
    "# # remove ALL cartoons of component 0 (default)\n",
    "# view.remove_cartoon(opacity=0.4, component=0)\n",
    "\n",
    "# # Not using default representation\n",
    "# view = nv.show_file('your.pdb', default=False)\n",
    "# view.center()\n",
    "# view.add_rope()"
   ]
  },
  {
   "cell_type": "code",
   "execution_count": 3,
   "id": "0d2332e9",
   "metadata": {},
   "outputs": [],
   "source": [
    "# view.representations = [\n",
    "#     {\"type\": \"cartoon\", \"params\": {\n",
    "#         \"sele\": \"protein\", \"color\": \"residueindex\"\n",
    "#     }},\n",
    "#     {\"type\": \"ball+stick\", \"params\": {\n",
    "#         \"sele\": \"hetero\"\n",
    "#     }}\n",
    "# ]"
   ]
  },
  {
   "cell_type": "code",
   "execution_count": null,
   "id": "4250a992",
   "metadata": {},
   "outputs": [],
   "source": []
  },
  {
   "cell_type": "code",
   "execution_count": null,
   "id": "24dec007",
   "metadata": {},
   "outputs": [],
   "source": []
  }
 ],
 "metadata": {
  "kernelspec": {
   "display_name": "Python 3 (ipykernel)",
   "language": "python",
   "name": "python3"
  },
  "language_info": {
   "codemirror_mode": {
    "name": "ipython",
    "version": 3
   },
   "file_extension": ".py",
   "mimetype": "text/x-python",
   "name": "python",
   "nbconvert_exporter": "python",
   "pygments_lexer": "ipython3",
   "version": "3.8.5"
  }
 },
 "nbformat": 4,
 "nbformat_minor": 5
}
